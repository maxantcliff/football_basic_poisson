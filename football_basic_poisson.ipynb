{
 "cells": [
  {
   "cell_type": "code",
   "execution_count": 19,
   "metadata": {},
   "outputs": [],
   "source": [
    "# import packages, set options\n",
    "import pandas as pd\n",
    "import numpy as np\n",
    "import math\n",
    "pd.set_option(\"display.max.columns\", None)\n",
    "pd.options.mode.chained_assignment = None"
   ]
  },
  {
   "cell_type": "code",
   "execution_count": 2,
   "metadata": {},
   "outputs": [],
   "source": [
    "# Set the years to apply the programme to - format is 20yy/yy+1, e.g 17 will give 2017/18 season\n",
    "betting_year=17\n",
    "data_year=betting_year-1"
   ]
  },
  {
   "cell_type": "code",
   "execution_count": 3,
   "metadata": {},
   "outputs": [],
   "source": [
    "# Define function for poisson distribution:\n",
    "def poisson(actual, mean):\n",
    "    return(mean**actual*math.exp(-mean))/math.factorial(actual)"
   ]
  },
  {
   "cell_type": "code",
   "execution_count": 4,
   "metadata": {},
   "outputs": [],
   "source": [
    "# Load the historical dataset that expected values will be created from\n",
    "data=pd.read_csv('data/EPL/%d.csv'%(data_year)) "
   ]
  },
  {
   "cell_type": "code",
   "execution_count": 5,
   "metadata": {},
   "outputs": [],
   "source": [
    "# Create a list of teams for the mean goals to be stored for\n",
    "teamlist=[]\n",
    "for i in range(len(data)):\n",
    "    if data.HomeTeam[i] not in teamlist:\n",
    "        teamlist.append(data.HomeTeam[i])\n",
    "teamlist.sort()"
   ]
  },
  {
   "cell_type": "code",
   "execution_count": 6,
   "metadata": {},
   "outputs": [],
   "source": [
    "# Create dataframe to store mean home and away goals in\n",
    "columns=['home_goals', 'away_goals', 'home_conceded', 'away_conceded',\n",
    "           'home_games', 'away_games','total_games', 'alpha_h','alpha_a']\n",
    "teaminfo= pd.DataFrame(index=teamlist, columns=columns)\n",
    "teaminfo[(columns)]=0"
   ]
  },
  {
   "cell_type": "code",
   "execution_count": 7,
   "metadata": {},
   "outputs": [],
   "source": [
    "# Make calculations for the mean values\n",
    "for i in range(len(data)):\n",
    "    teaminfo['home_games'][(data.HomeTeam[i])]+=1\n",
    "    teaminfo['away_games'][(data.AwayTeam[i])]+=1\n",
    "    teaminfo['home_goals'][(data.HomeTeam[i])]+=data.FTHG[i]\n",
    "    teaminfo['away_goals'][(data.AwayTeam[i])]+=data.FTAG[i]\n",
    "    \n",
    "teaminfo['alpha_h']=teaminfo['home_goals']/teaminfo['home_games']\n",
    "teaminfo['alpha_a']=teaminfo['away_goals']/teaminfo['away_games']\n",
    "teaminfo['total_games']=teaminfo['home_games']+teaminfo['away_games']"
   ]
  },
  {
   "cell_type": "code",
   "execution_count": 15,
   "metadata": {},
   "outputs": [],
   "source": [
    "# Load the dataset of fixtures for which you want to bet on, and add columns for some metrics\n",
    "season=pd.read_csv('data/EPL/%d.csv'%(betting_year))\n",
    "add_columns=['p_win','p_draw','p_draw','p_loss','sum_probs',\n",
    "     'ev_win','ev_draw','ev_loss','promoted']\n",
    "for i in add_columns:\n",
    "    season[i]=np.zeros((len(season)))"
   ]
  },
  {
   "cell_type": "code",
   "execution_count": 20,
   "metadata": {},
   "outputs": [],
   "source": [
    "# Removes the matches for teams that have just been promoted, as don't have mean goals for them\n",
    "for i in range(len(season)):\n",
    "    if season.HomeTeam[i] not in teamlist or season.AwayTeam[i] not in teamlist:\n",
    "        season.promoted[i]=1\n",
    "season.drop(season[season.promoted==1.0].index,inplace=True)\n",
    "season.reset_index(drop=True, inplace=True)"
   ]
  },
  {
   "cell_type": "code",
   "execution_count": 21,
   "metadata": {},
   "outputs": [],
   "source": [
    "# Set maxscore to the max goals for each team you want to calculate probability of. e.g =11 will calculate up to\n",
    "    # 10-10\n",
    "# Calculates the probability of each result, and then adds the relevant ones together to get p of each outcome\n",
    "maxscore = 11\n",
    "for game in range(len(season)):    \n",
    "    probs=pd.DataFrame(index=range(maxscore**2),columns=['homescore','awayscore','probability'])\n",
    "    index_counter=0\n",
    "    for i in range(maxscore):\n",
    "        for j in range(maxscore):\n",
    "            prob = poisson(i, teaminfo['alpha_h'][season.HomeTeam[game]]) * poisson(j,teaminfo['alpha_a'][season.AwayTeam[game]])\n",
    "            probs.homescore[index_counter]=i\n",
    "            probs.awayscore[index_counter]=j               \n",
    "            probs.probability[index_counter]=prob\n",
    "            index_counter+=1\n",
    "    p_win=0\n",
    "    p_loss=0\n",
    "    p_draw=0\n",
    "    for i in range(len(probs)):\n",
    "        if probs.homescore[i]>probs.awayscore[i]:\n",
    "            p_win+=probs.probability[i]\n",
    "        if probs.homescore[i]<probs.awayscore[i]:\n",
    "            p_loss+=probs.probability[i]\n",
    "        if probs.homescore[i]==probs.awayscore[i]:\n",
    "            p_draw+=probs.probability[i] \n",
    "    season['p_win'][game]=p_win\n",
    "    season['p_draw'][game]=p_draw\n",
    "    season['p_loss'][game]=p_loss\n",
    "    season['sum_probs'][game]=np.sum((p_win,p_draw,p_loss))"
   ]
  },
  {
   "cell_type": "code",
   "execution_count": 22,
   "metadata": {},
   "outputs": [],
   "source": [
    "# Calculates and adds the expected value of each bet to the data set. Use the bet 365 odds here\n",
    "for game in range(len(season)):\n",
    "    season.ev_win[game]=(season.p_win[game]*(season.B365H[game]-1))-(1-season.p_win[game])\n",
    "    season.ev_draw[game]=(season.p_draw[game]*(season.B365D[game]-1))-(1-season.p_draw[game])\n",
    "    season.ev_loss[game]=(season.p_loss[game]*(season.B365A[game]-1))-(1-season.p_loss[game])"
   ]
  },
  {
   "cell_type": "code",
   "execution_count": 23,
   "metadata": {},
   "outputs": [],
   "source": [
    "# Define some variables\n",
    "starting_bankroll=100\n",
    "bankroll=starting_bankroll\n",
    "wager=5    # bet per game\n",
    "incorrect=0 # counters for track record\n",
    "correct=0\n",
    "threshold=0 # the minimum expected value of a bet in order to place one\n",
    "betcounter=incorrect+correct\n",
    "games=len(season)"
   ]
  },
  {
   "cell_type": "code",
   "execution_count": 24,
   "metadata": {},
   "outputs": [],
   "source": [
    "# Carrying out the betting\n",
    "# If you want to check that these next lines are working how they should, unsilence the print commands. \n",
    "for game in range(games):\n",
    "    result=0\n",
    "    ev_max=max(season.ev_win[game],season.ev_draw[game],season.ev_loss[game]) \n",
    "    if season.ev_win[game]==ev_max and season.ev_win[game]>threshold:\n",
    "        team_bet=season.HomeTeam[game]\n",
    "        if season.FTHG[game]>season.FTAG[game]:\n",
    "            betvalue=wager*(season.B365H[game]-1)\n",
    "            result='won'\n",
    "            correct+=1\n",
    "        else:\n",
    "            betvalue=-wager\n",
    "            result='lost'\n",
    "            incorrect+=1\n",
    "        bankroll+=betvalue\n",
    "        #print(\"Bet\",season.HomeTeam[game],'vs',season.AwayTeam[game],':backed',team_bet)\n",
    "        #print('home scored',season.FTHG[game], 'away scored',season.FTAG[game])\n",
    "        #print('Bet',result)\n",
    "        #print('Bankroll=',bankroll)\n",
    "    elif season.ev_draw[game]==ev_max and season.ev_draw[game]>threshold:\n",
    "        team_bet=\"draw\"\n",
    "        if season.FTHG[game]==season.FTAG[game]:\n",
    "            betvalue=wager*(season.B365D[game]-1)\n",
    "            result='won'\n",
    "            correct+=1\n",
    "        else:\n",
    "            betvalue=-wager\n",
    "            result='lost'\n",
    "            incorrect+=1\n",
    "        bankroll+=betvalue\n",
    "        #print(\"Bet\",season.HomeTeam[game],'vs',season.AwayTeam[game],':backed',team_bet)\n",
    "        #print('home scored',season.FTHG[game], 'away scored',season.FTAG[game])\n",
    "        #print('Bet',result)\n",
    "        #print('Bankroll=',bankroll)\n",
    "    elif season.ev_loss[game]==ev_max and season.ev_loss[game]>threshold:\n",
    "        team_bet=season.AwayTeam[game]\n",
    "        if season.FTHG[game]<season.FTAG[game]:\n",
    "            betvalue=wager*(season.B365A[game]-1)\n",
    "            result='won'\n",
    "            correct+=1\n",
    "        else:\n",
    "            betvalue=-wager\n",
    "            result='lost'\n",
    "            incorrect+=1\n",
    "        bankroll+=betvalue\n",
    "        #print(\"Bet\",season.HomeTeam[game],'vs',season.AwayTeam[game],':backed',team_bet)\n",
    "        #print('home scored',season.FTHG[game], 'away scored',season.FTAG[game])\n",
    "        #print('Bet',result)\n",
    "        #print('Bankroll=',bankroll)"
   ]
  },
  {
   "cell_type": "code",
   "execution_count": 25,
   "metadata": {},
   "outputs": [
    {
     "name": "stdout",
     "output_type": "stream",
     "text": [
      "Made 270 bets out of a maximum 272\n",
      "66 were correct 204 were incorrect\n",
      "Total money betted= 1350\n",
      "ROI= -107.94%\n"
     ]
    }
   ],
   "source": [
    "# Returning the performance metrics of the betting        \n",
    "betcounter=incorrect+correct\n",
    "ROI = ((bankroll - starting_bankroll) / (wager * (betcounter)))-1\n",
    "ROI=\"{:.2%}\".format(ROI)\n",
    "print('Made',betcounter,'bets out of a maximum',len(season))\n",
    "print(correct,'were correct',incorrect,'were incorrect')\n",
    "print('Total money betted=',wager*betcounter)\n",
    "print('ROI=',ROI)"
   ]
  },
  {
   "cell_type": "code",
   "execution_count": null,
   "metadata": {},
   "outputs": [],
   "source": []
  }
 ],
 "metadata": {
  "kernelspec": {
   "display_name": "Python 3",
   "language": "python",
   "name": "python3"
  },
  "language_info": {
   "codemirror_mode": {
    "name": "ipython",
    "version": 3
   },
   "file_extension": ".py",
   "mimetype": "text/x-python",
   "name": "python",
   "nbconvert_exporter": "python",
   "pygments_lexer": "ipython3",
   "version": "3.7.6"
  }
 },
 "nbformat": 4,
 "nbformat_minor": 4
}
